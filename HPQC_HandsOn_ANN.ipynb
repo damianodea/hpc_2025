{
  "cells": [
    {
      "cell_type": "markdown",
      "metadata": {
        "id": "view-in-github",
        "colab_type": "text"
      },
      "source": [
        "<a href=\"https://colab.research.google.com/github/damianodea/hpc_2025/blob/main/HPQC_HandsOn_ANN.ipynb\" target=\"_parent\"><img src=\"https://colab.research.google.com/assets/colab-badge.svg\" alt=\"Open In Colab\"/></a>"
      ]
    },
    {
      "cell_type": "markdown",
      "metadata": {
        "id": "09t4_FjQuqOv"
      },
      "source": [
        "# <font color='red'>Classification on MNIST dataset, using Neural Networks </font>"
      ]
    },
    {
      "cell_type": "markdown",
      "metadata": {
        "id": "Zj0nDwGwvRje"
      },
      "source": [
        "Import MNIST"
      ]
    },
    {
      "cell_type": "code",
      "execution_count": 1,
      "metadata": {
        "id": "mgZuJnvUsZT6",
        "outputId": "c8e931ef-40f0-4ed8-e4f5-db0bb947cc61",
        "colab": {
          "base_uri": "https://localhost:8080/"
        }
      },
      "outputs": [
        {
          "output_type": "stream",
          "name": "stdout",
          "text": [
            "Downloading data from https://storage.googleapis.com/tensorflow/tf-keras-datasets/mnist.npz\n",
            "\u001b[1m11490434/11490434\u001b[0m \u001b[32m━━━━━━━━━━━━━━━━━━━━\u001b[0m\u001b[37m\u001b[0m \u001b[1m0s\u001b[0m 0us/step\n"
          ]
        }
      ],
      "source": [
        "from keras.datasets import mnist\n",
        "(train_images, train_labels), (test_images, test_labels) = mnist.load_data()"
      ]
    },
    {
      "cell_type": "markdown",
      "metadata": {
        "id": "Eq9CsnpGvXuf"
      },
      "source": [
        "Check what we imported."
      ]
    },
    {
      "cell_type": "code",
      "execution_count": 3,
      "metadata": {
        "id": "tpZSbxB6sdYH",
        "colab": {
          "base_uri": "https://localhost:8080/"
        },
        "outputId": "0502ba48-c1a1-45ed-cd84-b95734371d47"
      },
      "outputs": [
        {
          "output_type": "execute_result",
          "data": {
            "text/plain": [
              "(60000, 28, 28)"
            ]
          },
          "metadata": {},
          "execution_count": 3
        }
      ],
      "source": [
        "train_images.shape"
      ]
    },
    {
      "cell_type": "code",
      "execution_count": 4,
      "metadata": {
        "id": "USdposPP42rF",
        "colab": {
          "base_uri": "https://localhost:8080/"
        },
        "outputId": "0ea43316-3b54-45f3-c61c-3fee806fe048"
      },
      "outputs": [
        {
          "output_type": "execute_result",
          "data": {
            "text/plain": [
              "(10000, 28, 28)"
            ]
          },
          "metadata": {},
          "execution_count": 4
        }
      ],
      "source": [
        "test_images.shape"
      ]
    },
    {
      "cell_type": "code",
      "execution_count": 5,
      "metadata": {
        "id": "BXxZUFsNpM_l",
        "colab": {
          "base_uri": "https://localhost:8080/"
        },
        "outputId": "a0739501-25ce-4cfe-c7a0-2712c9ce314c"
      },
      "outputs": [
        {
          "output_type": "execute_result",
          "data": {
            "text/plain": [
              "dtype('uint8')"
            ]
          },
          "metadata": {},
          "execution_count": 5
        }
      ],
      "source": [
        "train_images.dtype"
      ]
    },
    {
      "cell_type": "code",
      "execution_count": 6,
      "metadata": {
        "id": "zTYfFsolpO60",
        "colab": {
          "base_uri": "https://localhost:8080/"
        },
        "outputId": "e3f1f720-240c-468e-bcef-ef235cec38f9"
      },
      "outputs": [
        {
          "output_type": "execute_result",
          "data": {
            "text/plain": [
              "dtype('uint8')"
            ]
          },
          "metadata": {},
          "execution_count": 6
        }
      ],
      "source": [
        "test_images.dtype"
      ]
    },
    {
      "cell_type": "code",
      "execution_count": 7,
      "metadata": {
        "id": "82z8-eRnsg3E",
        "colab": {
          "base_uri": "https://localhost:8080/"
        },
        "outputId": "b53bd0b6-b01d-4be7-bb4f-b81174bf2700"
      },
      "outputs": [
        {
          "output_type": "execute_result",
          "data": {
            "text/plain": [
              "60000"
            ]
          },
          "metadata": {},
          "execution_count": 7
        }
      ],
      "source": [
        "len(train_labels)"
      ]
    },
    {
      "cell_type": "code",
      "execution_count": 8,
      "metadata": {
        "id": "l2r2Y2iKsooV",
        "colab": {
          "base_uri": "https://localhost:8080/"
        },
        "outputId": "ebfe7eb8-b526-44c1-fa4c-f31ca0c37279"
      },
      "outputs": [
        {
          "output_type": "execute_result",
          "data": {
            "text/plain": [
              "10000"
            ]
          },
          "metadata": {},
          "execution_count": 8
        }
      ],
      "source": [
        "len(test_labels)"
      ]
    },
    {
      "cell_type": "code",
      "execution_count": 9,
      "metadata": {
        "id": "tVMu4cbqsid9",
        "colab": {
          "base_uri": "https://localhost:8080/"
        },
        "outputId": "481942eb-15d0-47fa-a9cb-b2460c5190c8"
      },
      "outputs": [
        {
          "output_type": "execute_result",
          "data": {
            "text/plain": [
              "array([5, 0, 4, ..., 5, 6, 8], dtype=uint8)"
            ]
          },
          "metadata": {},
          "execution_count": 9
        }
      ],
      "source": [
        "train_labels"
      ]
    },
    {
      "cell_type": "code",
      "execution_count": 10,
      "metadata": {
        "id": "gBaa1V2PsqH0",
        "colab": {
          "base_uri": "https://localhost:8080/"
        },
        "outputId": "94a42f7b-36de-458a-db16-61fd629a148d"
      },
      "outputs": [
        {
          "output_type": "execute_result",
          "data": {
            "text/plain": [
              "array([7, 2, 1, ..., 4, 5, 6], dtype=uint8)"
            ]
          },
          "metadata": {},
          "execution_count": 10
        }
      ],
      "source": [
        "test_labels"
      ]
    },
    {
      "cell_type": "markdown",
      "source": [
        "Let's see an example visually:"
      ],
      "metadata": {
        "id": "mqWP6c2XGgAf"
      }
    },
    {
      "cell_type": "code",
      "source": [
        "from matplotlib import pyplot as plt\n",
        "import numpy as np\n",
        "\n",
        "first_image = train_images[0,:,:]\n",
        "first_image = np.array(first_image, dtype='float')\n",
        "plt.imshow(first_image, cmap='gray')\n",
        "plt.show()"
      ],
      "metadata": {
        "id": "2v3SHMUy0PHg",
        "colab": {
          "base_uri": "https://localhost:8080/",
          "height": 430
        },
        "outputId": "be6bf360-cf5d-43ef-8dfc-d97948130771"
      },
      "execution_count": 11,
      "outputs": [
        {
          "output_type": "display_data",
          "data": {
            "text/plain": [
              "<Figure size 640x480 with 1 Axes>"
            ],
            "image/png": "[encoded data removed]"
          },
          "metadata": {}
        }
      ]
    },
    {
      "cell_type": "markdown",
      "metadata": {
        "id": "IONVmq7rhu-P"
      },
      "source": [
        "The workflow will be as follows:\n",
        "1.   we’ll feed the training data, `train_images` and `train_labels`, to the NN. The network will then learn to associate images and labels.\n",
        "2.   we’ll ask the NN to produce predictions for `test_images`, and we’ll verify whether these predictions match the labels from `test_labels`."
      ]
    },
    {
      "cell_type": "code",
      "execution_count": null,
      "metadata": {
        "id": "njaBTMGvssNe"
      },
      "outputs": [],
      "source": [
        "# the network architecture\n",
        "from tensorflow.keras import models\n",
        "from tensorflow.keras import layers\n",
        "my_network = models.Sequential([\n",
        "  layers.Dense(100, activation='relu'),\n",
        "  layers.Dense(100, activation='relu'),\n",
        "  layers.Dense(10, activation='softmax')\n",
        "])"
      ]
    },
    {
      "cell_type": "markdown",
      "metadata": {
        "id": "qH2-sCsKkpy1"
      },
      "source": [
        "A **layer** is a data-processing module that you can think of as a filter for data. Layers extract *representations* out of the data fed into them.\n"
      ]
    },
    {
      "cell_type": "markdown",
      "metadata": {
        "id": "QYaXvKg9lVvb"
      },
      "source": [
        "In this specific case, our NN consists of:\n",
        "\n",
        "*   a sequence of two `Dense` layers, which are `densely connected` (also called *fully connected*) neural layers\n",
        "*   the second (and last) layer is a bit special: it is a 10-way `softmax` layer, which will return an array of 10 numbers, our *probability scores* (summing to 1)."
      ]
    },
    {
      "cell_type": "markdown",
      "metadata": {
        "id": "Vfe-MJA-mFOO"
      },
      "source": [
        "To make the network ready for training, we need to pick 3 more things, in the compilation step:\n",
        "\n",
        "*   A **loss function** (`loss` below)\n",
        "*   An **optimizer** (`optimizer` below)\n",
        "*   Some **metrics** (`metrics` below)\n"
      ]
    },
    {
      "cell_type": "code",
      "execution_count": null,
      "metadata": {
        "id": "prUNd5tMsuyw"
      },
      "outputs": [],
      "source": [
        "# the compilation step\n",
        "my_network.compile(optimizer='rmsprop',\n",
        "                   loss='sparse_categorical_crossentropy',\n",
        "                   metrics=['accuracy'])"
      ]
    },
    {
      "cell_type": "markdown",
      "metadata": {
        "id": "GARam_hXoFu1"
      },
      "source": [
        "Before training, we’ll preprocess the data by reshaping it into the shape the network expects and scaling it so that all values are in the [0, 1] interval.\n",
        "\n"
      ]
    },
    {
      "cell_type": "code",
      "execution_count": null,
      "metadata": {
        "id": "sYQ2ADjysxVs"
      },
      "outputs": [],
      "source": [
        "# Preparing the image data\n",
        "train_images = train_images.reshape((60000, 28 * 28))\n",
        "train_images = train_images.astype('float32') / 255\n",
        "#\n",
        "test_images = test_images.reshape((10000, 28 * 28))\n",
        "test_images = test_images.astype('float32') / 255"
      ]
    },
    {
      "cell_type": "code",
      "execution_count": null,
      "metadata": {
        "id": "jv7wlN3Bo1hQ"
      },
      "outputs": [],
      "source": [
        "train_images.shape"
      ]
    },
    {
      "cell_type": "code",
      "execution_count": null,
      "metadata": {
        "id": "eeja6xzbo3N9"
      },
      "outputs": [],
      "source": [
        "train_images.dtype"
      ]
    },
    {
      "cell_type": "code",
      "execution_count": null,
      "metadata": {
        "id": "aTtyAg61o-8k"
      },
      "outputs": [],
      "source": [
        "test_images.shape"
      ]
    },
    {
      "cell_type": "code",
      "execution_count": null,
      "metadata": {
        "id": "xytxzbbqo-0U"
      },
      "outputs": [],
      "source": [
        "test_images.dtype"
      ]
    },
    {
      "cell_type": "markdown",
      "source": [
        "Let's print some information about the model. To extract all the parameters, you need to provide the input layer shape."
      ],
      "metadata": {
        "id": "EvdbnndxJOxK"
      }
    },
    {
      "cell_type": "code",
      "source": [
        "my_network.build(train_images.shape) # Input layer shape\n",
        "my_network.summary()"
      ],
      "metadata": {
        "id": "3_y_rggoHGph"
      },
      "execution_count": null,
      "outputs": []
    },
    {
      "cell_type": "markdown",
      "source": [
        "**<font color='red'>Exercise </font>**: How is the number of parameters (weights) computed?"
      ],
      "metadata": {
        "id": "ikmYbzvPJquz"
      }
    },
    {
      "cell_type": "markdown",
      "metadata": {
        "id": "73eJoN4OqVLH"
      },
      "source": [
        "We’re now ready to train the network, via the `fit` method."
      ]
    },
    {
      "cell_type": "code",
      "execution_count": null,
      "metadata": {
        "id": "j4sqwQysszfD"
      },
      "outputs": [],
      "source": [
        "%%time\n",
        "# Fit the NN\n",
        "my_network.fit(train_images, train_labels, epochs=10, batch_size=128)"
      ]
    },
    {
      "cell_type": "markdown",
      "metadata": {
        "id": "zx-oddoBsrv2"
      },
      "source": [
        "Two quantities are displayed during training:\n",
        "\n",
        "*   the loss of the network over the training data\n",
        "*   the accuracy of the network over the training data.\n",
        "\n",
        "We quickly reach a high accuracy e.g. 0.98 or 0.99 (98% or 99%) on the training data.\n",
        "\n",
        "Now let’s check that the model performs well on the test set, too:"
      ]
    },
    {
      "cell_type": "code",
      "execution_count": null,
      "metadata": {
        "id": "SDFAFU27s6Rs"
      },
      "outputs": [],
      "source": [
        "test_loss, test_acc = my_network.evaluate(test_images, test_labels)\n",
        "print('test_acc:', test_acc)"
      ]
    },
    {
      "cell_type": "markdown",
      "metadata": {
        "id": "wKtZfZT6uXcr"
      },
      "source": [
        "The test set accuracy should turn out to be a bit lower than the training set accuracy. This gap between training accuracy and test accuracy is an example of overfitting."
      ]
    },
    {
      "cell_type": "markdown",
      "metadata": {
        "id": "cTm3B__Wzkqc"
      },
      "source": [
        "Being careful to do the training only once and properly, you can comment the fit instruction above, in oprder to esploit the onebelow here, and rerun the notebook from scratch to benefit of pandas superpowers and get a nice viz of the training process."
      ]
    },
    {
      "cell_type": "code",
      "execution_count": null,
      "metadata": {
        "id": "Ushmdmf_zk2r"
      },
      "outputs": [],
      "source": [
        "import pandas as pd"
      ]
    },
    {
      "cell_type": "code",
      "execution_count": null,
      "metadata": {
        "id": "GahvVbv-zm37"
      },
      "outputs": [],
      "source": [
        "%%time\n",
        "history_callback = my_network.fit(train_images, train_labels, epochs=10, batch_size=128)\n",
        "pd.DataFrame(history_callback.history).plot()"
      ]
    },
    {
      "cell_type": "code",
      "execution_count": null,
      "metadata": {
        "id": "atWh93qVBC61"
      },
      "outputs": [],
      "source": [
        "test_loss, test_acc = my_network.evaluate(test_images, test_labels)\n",
        "print('test_acc:', test_acc)"
      ]
    },
    {
      "cell_type": "markdown",
      "source": [
        "Let's do some predictions now:"
      ],
      "metadata": {
        "id": "WillMPHcKqv1"
      }
    },
    {
      "cell_type": "code",
      "source": [
        "X_new = test_images[:3]\n",
        "y_proba = my_network.predict(X_new)\n",
        "y_proba.round(2)"
      ],
      "metadata": {
        "id": "WmB2X94dKpCb"
      },
      "execution_count": null,
      "outputs": []
    },
    {
      "cell_type": "code",
      "source": [
        "y_pred = y_proba.argmax(axis=-1)\n",
        "y_pred"
      ],
      "metadata": {
        "id": "c2B3INhdL2KM"
      },
      "execution_count": null,
      "outputs": []
    },
    {
      "cell_type": "code",
      "source": [
        "plt.figure(figsize=(7.2, 2.4))\n",
        "for index, image in enumerate(X_new):\n",
        "    plt.subplot(1, 3, index + 1)\n",
        "    image = image.reshape((28, 28))\n",
        "    plt.imshow(image, cmap=\"binary\", interpolation=\"nearest\")\n",
        "    plt.axis('off')\n",
        "plt.subplots_adjust(wspace=0.2, hspace=0.5)\n",
        "plt.show()"
      ],
      "metadata": {
        "id": "NcSjp3V4MB31"
      },
      "execution_count": null,
      "outputs": []
    },
    {
      "cell_type": "markdown",
      "source": [
        "<font color='red'> Exercise </font>: Try to tweak the model's architecture or try other models (SVM, trees) to see if you can have better performances!!"
      ],
      "metadata": {
        "id": "voPDgrYmNRKg"
      }
    },
    {
      "cell_type": "code",
      "source": [],
      "metadata": {
        "id": "PUP2sn8ENzam"
      },
      "execution_count": null,
      "outputs": []
    }
  ],
  "metadata": {
    "colab": {
      "provenance": [],
      "include_colab_link": true
    },
    "kernelspec": {
      "display_name": "Python 3",
      "name": "python3"
    },
    "language_info": {
      "name": "python"
    }
  },
  "nbformat": 4,
  "nbformat_minor": 0
}